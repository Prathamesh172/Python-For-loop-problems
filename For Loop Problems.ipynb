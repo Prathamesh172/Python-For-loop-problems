{
 "cells": [
  {
   "cell_type": "code",
   "execution_count": 13,
   "id": "22f6406b",
   "metadata": {},
   "outputs": [
    {
     "name": "stdout",
     "output_type": "stream",
     "text": [
      "Enter the start of the range: 2\n",
      "Enter the end of the range: 9\n",
      "Non-prime numbers within the range 2 to 9 are:\n",
      "4 6 8 9 "
     ]
    }
   ],
   "source": [
    "# Write a python program to Display all Numbers within a range except the Prime numbers.\n",
    "\n",
    "start = int(input(\"Enter the start of the range: \"))\n",
    "end = int(input(\"Enter the end of the range: \"))\n",
    "\n",
    "print(\"Non-prime numbers within the range\", start, \"to\", end, \"are:\")\n",
    "\n",
    "for num in range(start, end + 1):\n",
    "    if num > 1:\n",
    "        for i in range(2, num):\n",
    "            if (num % i) == 0:\n",
    "                break\n",
    "        else:\n",
    "            continue\n",
    "    print(num, end=\" \")"
   ]
  },
  {
   "cell_type": "code",
   "execution_count": null,
   "id": "64bbcded",
   "metadata": {},
   "outputs": [],
   "source": [
    "# Python Program to check Prime Number\n",
    "\n",
    "n = int(input('Enter the number : '))\n",
    "if n == 1:\n",
    "    print(f\"{n} is not a prime number\")\n",
    "elif n > 1:\n",
    "    for i in range(2, n):\n",
    "        if (n % i) == 0:\n",
    "            print(f\"{n} is not a prime number\")\n",
    "            break\n",
    "    else:\n",
    "        print(f\"{n} is a prime number\")\n",
    "else:\n",
    "    print(f\"{n} is not a prime number\")"
   ]
  },
  {
   "cell_type": "code",
   "execution_count": 10,
   "id": "02266241",
   "metadata": {},
   "outputs": [
    {
     "name": "stdout",
     "output_type": "stream",
     "text": [
      "5050\n"
     ]
    }
   ],
   "source": [
    "# Use a for loop to calculate the sum of all numbers from 1 to 100\n",
    "\n",
    "sum = 0\n",
    "for i in range(1,101):\n",
    "    sum = sum + i\n",
    "print(sum)"
   ]
  },
  {
   "cell_type": "code",
   "execution_count": 14,
   "id": "311688ca",
   "metadata": {},
   "outputs": [
    {
     "name": "stdout",
     "output_type": "stream",
     "text": [
      "2500\n"
     ]
    }
   ],
   "source": [
    "# Use a for loop to calculate the sum of all odd numbers from 1 to 100\n",
    "\n",
    "sum = 0 \n",
    "for i in range(1,101):\n",
    "    if i % 2 != 0:\n",
    "        sum = sum + i\n",
    "print(sum)"
   ]
  },
  {
   "cell_type": "code",
   "execution_count": 17,
   "id": "4636bfcf",
   "metadata": {},
   "outputs": [
    {
     "name": "stdout",
     "output_type": "stream",
     "text": [
      "Enter the number : 5\n",
      "120\n"
     ]
    }
   ],
   "source": [
    "# Use a for loop to calculate the factorial of a given number\n",
    "\n",
    "n = int(input('Enter the number : '))\n",
    "factorial = 1\n",
    "for i in range(1,n+1):\n",
    "    factorial = factorial * i\n",
    "print(factorial)"
   ]
  },
  {
   "cell_type": "code",
   "execution_count": 22,
   "id": "18310c74",
   "metadata": {},
   "outputs": [
    {
     "name": "stdout",
     "output_type": "stream",
     "text": [
      "Enter the word : prathamesh\n",
      "3\n"
     ]
    }
   ],
   "source": [
    "# Create a for loop to iterate over a string and count the number of vowels\n",
    "\n",
    "word = input(\"Enter the word : \")\n",
    "vowel_sum = 0\n",
    "for i in word:\n",
    "    if i in {'A','a','E','e','I','i','O','o','U','u'}:\n",
    "        vowel_sum = vowel_sum+1\n",
    "print(vowel_sum)"
   ]
  },
  {
   "cell_type": "code",
   "execution_count": null,
   "id": "0edf698f",
   "metadata": {},
   "outputs": [],
   "source": [
    "# Create a multiplication table\n",
    "\n",
    "n = int(input('Enter the number : '))\n",
    "for i in range(1,11):\n",
    "    print(n, \"x\", i,'=',n*i)"
   ]
  },
  {
   "cell_type": "code",
   "execution_count": null,
   "id": "77f9f5c8",
   "metadata": {},
   "outputs": [],
   "source": [
    "# Python Program to print Fibonacci Sequence\n",
    "\n",
    "n = int(input('Enter the number of terms : '))\n",
    "fib = [] \n",
    "p = 1\n",
    "if n < 0:\n",
    "    print('Number of terms cannot be negative : ')\n",
    "elif n == 1:\n",
    "    fib.append(0)\n",
    "elif n == 2:\n",
    "    fib.append(1)\n",
    "for i in (3,n+1):\n",
    "    p=+i\n",
    "    fib.append(p)\n",
    "print(fib)"
   ]
  },
  {
   "cell_type": "code",
   "execution_count": null,
   "id": "d7d53d4f",
   "metadata": {},
   "outputs": [],
   "source": []
  },
  {
   "cell_type": "code",
   "execution_count": 25,
   "id": "356d827c",
   "metadata": {},
   "outputs": [
    {
     "name": "stdout",
     "output_type": "stream",
     "text": [
      "121\n",
      "143\n",
      "165\n",
      "187\n",
      "209\n",
      "231\n",
      "253\n",
      "275\n",
      "297\n",
      "319\n",
      "341\n",
      "363\n",
      "385\n",
      "407\n",
      "429\n",
      "451\n",
      "473\n",
      "495\n"
     ]
    }
   ],
   "source": [
    "#Write a program to display all the numbers which are divisible by 11 but not by 2 between 100 and 500\n",
    "\n",
    "for i in range(100,501):\n",
    "    if i%11==0 and i%2 != 0:\n",
    "        print(i)"
   ]
  },
  {
   "cell_type": "code",
   "execution_count": 7,
   "id": "f4599277",
   "metadata": {},
   "outputs": [
    {
     "name": "stdout",
     "output_type": "stream",
     "text": [
      "2\n",
      "4\n"
     ]
    }
   ],
   "source": [
    "# Use a for loop to find the common elements between two lists\n",
    "\n",
    "list_1 = [1,2,4,5,6]\n",
    "list_2 = [2,4,7,9,0]\n",
    "\n",
    "for i in list_1:\n",
    "    for j in list_2:\n",
    "        if i == j:\n",
    "            print(i)"
   ]
  },
  {
   "cell_type": "code",
   "execution_count": 11,
   "id": "b1022123",
   "metadata": {},
   "outputs": [
    {
     "name": "stdout",
     "output_type": "stream",
     "text": [
      "Name : Prathamesh\n",
      "Age : 25\n",
      "City : Vadodara\n"
     ]
    }
   ],
   "source": [
    "# Create a for loop to iterate over a dictionary and print the keys and values\n",
    "\n",
    "dict1 = {\"Name\": \"Prathamesh\", \"Age\": 25, \"City\": \"Vadodara\"}\n",
    "for key, value in dict1.items():\n",
    "    print(key, \":\", value)"
   ]
  },
  {
   "cell_type": "code",
   "execution_count": 30,
   "id": "2178d983",
   "metadata": {},
   "outputs": [
    {
     "name": "stdout",
     "output_type": "stream",
     "text": [
      "2\n",
      "4\n",
      "6\n",
      "8\n",
      "10\n"
     ]
    }
   ],
   "source": [
    "# Write a for loop to print the first 10 even numbers\n",
    "\n",
    "for i in range(1,11):\n",
    "    if i % 2 == 0:\n",
    "        print(i)"
   ]
  },
  {
   "cell_type": "code",
   "execution_count": 9,
   "id": "80085afc",
   "metadata": {},
   "outputs": [
    {
     "name": "stdout",
     "output_type": "stream",
     "text": [
      "Enter the list : 2 2 3 4 5 6 7\n",
      "2\n",
      "2\n",
      "3\n",
      "4\n",
      "5\n",
      "6\n",
      "7\n"
     ]
    }
   ],
   "source": [
    "# Create a for loop to iterate over a list and print each element\n",
    "\n",
    "l = list(input(\"Enter the list : \"))\n",
    "for i in l:\n",
    "    if i != \" \":\n",
    "        print(i)"
   ]
  },
  {
   "cell_type": "code",
   "execution_count": 54,
   "id": "27c1038a",
   "metadata": {},
   "outputs": [],
   "source": [
    "# Use a for loop to remove duplicates from a list\n",
    "\n",
    "l = [1,2,3,1,1,2,5,6,7,7]\n",
    "s = set(l)"
   ]
  },
  {
   "cell_type": "code",
   "execution_count": null,
   "id": "571afb91",
   "metadata": {
    "scrolled": true
   },
   "outputs": [],
   "source": []
  },
  {
   "cell_type": "code",
   "execution_count": 59,
   "id": "607002c0",
   "metadata": {},
   "outputs": [
    {
     "name": "stdout",
     "output_type": "stream",
     "text": [
      "36\n"
     ]
    }
   ],
   "source": [
    "l = [1,-2,23,-32,-20,10,2]\n",
    "sum = 0\n",
    "for i in l:\n",
    "    if i > 0:\n",
    "        sum = sum + i\n",
    "print(sum)"
   ]
  },
  {
   "cell_type": "code",
   "execution_count": 11,
   "id": "29f20b32",
   "metadata": {},
   "outputs": [
    {
     "name": "stdout",
     "output_type": "stream",
     "text": [
      "      *       \n",
      "    * * *     \n",
      "  * * * * *   \n",
      "* * * * * * * \n"
     ]
    }
   ],
   "source": [
    "# Write a for loop to print a pattern of stars in the shape of a triangle (Without user input)\n",
    "\n",
    "for row in range(4):\n",
    "    for col in range(7):\n",
    "        if row == 0 and col == 3:\n",
    "            print(\"*\",end=' ')\n",
    "        elif row == 1 and col in {2,3,4}:\n",
    "            print('*',end=' ')\n",
    "        elif row == 2 and col in {1,2,3,4,5}:\n",
    "            print('*',end=' ')\n",
    "        elif row == 3 and col in {0,1,2,3,4,5,6}:\n",
    "            print('*',end=' ')\n",
    "        else:\n",
    "            print(' ',end=' ')\n",
    "    print()"
   ]
  },
  {
   "cell_type": "code",
   "execution_count": 4,
   "id": "002d91ce",
   "metadata": {},
   "outputs": [
    {
     "name": "stdout",
     "output_type": "stream",
     "text": [
      "Enter the number of rows: 6\n",
      "     * \n",
      "    * * \n",
      "   * * * \n",
      "  * * * * \n",
      " * * * * * \n",
      "* * * * * * \n"
     ]
    }
   ],
   "source": [
    "# Write a for loop to print a pattern of stars in the shape of a triangle (with user input)\n",
    "\n",
    "n = int(input(\"Enter the number of rows: \"))\n",
    "for i in range(1, n + 1):\n",
    "    print(\" \" * (n - i) + \"* \" * i)"
   ]
  },
  {
   "cell_type": "code",
   "execution_count": 6,
   "id": "35197829",
   "metadata": {},
   "outputs": [
    {
     "name": "stdout",
     "output_type": "stream",
     "text": [
      "* * * * * \n",
      "*       * \n",
      "*   P   * \n",
      "*       * \n",
      "* * * * * \n"
     ]
    }
   ],
   "source": [
    "# Write a for loop to print a pattern of stars in the shape of a square and write your initial latter in square.\n",
    "\n",
    "for row in range(5):\n",
    "    for col in range(5):\n",
    "        if row == 0 and col in range(5):\n",
    "            print('*',end=' ')\n",
    "        elif row == 1 and col in {0,4}:\n",
    "            print('*',end=' ')\n",
    "        elif row == 2 and col in {0,4}:\n",
    "            print('*',end=' ')\n",
    "        elif row == 3 and col in {0,4}:\n",
    "            print('*',end=' ')\n",
    "        elif row == 4 and col in range(5):\n",
    "            print('*',end=' ')\n",
    "        elif row == 2 and col in {2}:\n",
    "            print('P',end=' ')\n",
    "        else:\n",
    "            print(' ',end=' ')\n",
    "    print()"
   ]
  }
 ],
 "metadata": {
  "kernelspec": {
   "display_name": "Python 3 (ipykernel)",
   "language": "python",
   "name": "python3"
  },
  "language_info": {
   "codemirror_mode": {
    "name": "ipython",
    "version": 3
   },
   "file_extension": ".py",
   "mimetype": "text/x-python",
   "name": "python",
   "nbconvert_exporter": "python",
   "pygments_lexer": "ipython3",
   "version": "3.10.9"
  }
 },
 "nbformat": 4,
 "nbformat_minor": 5
}
